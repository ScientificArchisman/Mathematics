{
 "cells": [
  {
   "cell_type": "markdown",
   "id": "a09cd23c",
   "metadata": {},
   "source": [
    "## $$a_0 = \\frac{2}{T}\\int_a^b{f(x)}dx$$\n",
    "## $$a_n =  \\frac{2}{T}\\int_a^b{f(x)\\;cos(n\\omega x)dx}$$\n",
    "## $$b_n =  \\frac{2}{T}\\int_a^b{f(x)\\;sin(n\\omega x)dx}$$"
   ]
  },
  {
   "cell_type": "code",
   "execution_count": 1,
   "id": "0bd90b13",
   "metadata": {},
   "outputs": [],
   "source": [
    "from sympy import *\n",
    "import sympy as sp\n",
    "import matplotlib.pyplot as plt\n",
    "import numpy as np\n",
    "import handcalcs.render\n",
    "plt.style.use('dark_background')\n",
    "\n",
    "x, t = symbols('x t', real = True)\n",
    "n = symbols('n', real = True, positive = True, integer = True)\n",
    "T = sp.symbols('T', real = True, positive = True)\n",
    "a = symbols('a', real = True, positive = True, constant = True)\n",
    "number_of_terms = 9"
   ]
  },
  {
   "cell_type": "markdown",
   "id": "5987f6ee",
   "metadata": {},
   "source": [
    "# Define function, free variable and range"
   ]
  },
  {
   "cell_type": "code",
   "execution_count": 2,
   "id": "cc86d847",
   "metadata": {},
   "outputs": [
    {
     "data": {
      "text/plain": [
       "4"
      ]
     },
     "execution_count": 2,
     "metadata": {},
     "output_type": "execute_result"
    }
   ],
   "source": [
    "f = sp.Piecewise((x, x>0), (-x, x<0))\n",
    "free_var = x\n",
    "period = [-2, 2]\n",
    "T = period[1]-period[0]\n",
    "T"
   ]
  },
  {
   "cell_type": "markdown",
   "id": "85f8a668",
   "metadata": {},
   "source": [
    "# Calculation of coefficients"
   ]
  },
  {
   "cell_type": "code",
   "execution_count": 3,
   "id": "6f726761",
   "metadata": {},
   "outputs": [],
   "source": [
    "a_0 = (2/T) * integrate(f, (free_var, period[0], period[1]))\n",
    "a_0 = a_0.simplify()\n",
    "\n",
    "a_n =(2/T) * (integrate(f*cos(n*2*pi*free_var/T), (free_var,period[0], period[1])))\n",
    "a_n = a_n.simplify()\n",
    "\n",
    "b_n =(2/T) * integrate(f*sin(n*2*pi/T*free_var), (free_var, period[0], period[1]))\n",
    "b_n = b_n.simplify()"
   ]
  },
  {
   "cell_type": "code",
   "execution_count": 4,
   "id": "6fc26277",
   "metadata": {},
   "outputs": [
    {
     "data": {
      "text/latex": [
       "$\\displaystyle 2.0$"
      ],
      "text/plain": [
       "2.00000000000000"
      ]
     },
     "execution_count": 4,
     "metadata": {},
     "output_type": "execute_result"
    }
   ],
   "source": [
    "a_0.factor()\n",
    "a_0.factor()"
   ]
  },
  {
   "cell_type": "code",
   "execution_count": 5,
   "id": "2411f2f5",
   "metadata": {},
   "outputs": [
    {
     "data": {
      "text/latex": [
       "\\[\n",
       "\\begin{aligned}\n",
       "a_{0} &= \\displaystyle 2.0 \\; \n",
       "\\\\[10pt]\n",
       "a_{n} &= \\displaystyle \\frac{4.0 \\left(\\left(-1\\right)^{n} - 1\\right)}{\\pi^{2} n^{2}} \\; \n",
       "\\\\[10pt]\n",
       "b_{n} &= \\displaystyle 0 \\; \n",
       "\\end{aligned}\n",
       "\\]"
      ],
      "text/plain": [
       "<IPython.core.display.Latex object>"
      ]
     },
     "metadata": {},
     "output_type": "display_data"
    }
   ],
   "source": [
    "%%render\n",
    "a_0\n",
    "a_n\n",
    "b_n"
   ]
  },
  {
   "cell_type": "markdown",
   "id": "9e70044e",
   "metadata": {},
   "source": [
    "# Calculation of whole series upto desired terms"
   ]
  },
  {
   "cell_type": "code",
   "execution_count": 6,
   "id": "dd9a470d",
   "metadata": {},
   "outputs": [],
   "source": [
    "a_new = 0\n",
    "b_new = 0\n",
    "a1 = cos(n*free_var) * a_n\n",
    "b1 = sin(n*free_var) * b_n\n",
    "for i in range(number_of_terms,0, -1):\n",
    "    a_new += a1.subs(n, i)\n",
    "    b_new += b1.subs(n, i)\n",
    "ser = (a_0/2) + a_new + b_new"
   ]
  },
  {
   "cell_type": "markdown",
   "id": "0d94fa45",
   "metadata": {},
   "source": [
    "# The whole series"
   ]
  },
  {
   "cell_type": "code",
   "execution_count": 7,
   "id": "40a417ce",
   "metadata": {},
   "outputs": [
    {
     "data": {
      "text/latex": [
       "$\\displaystyle - \\frac{8.0 \\cos{\\left(x \\right)}}{\\pi^{2}} - \\frac{0.888888888888889 \\cos{\\left(3 x \\right)}}{\\pi^{2}} - \\frac{0.32 \\cos{\\left(5 x \\right)}}{\\pi^{2}} - \\frac{0.163265306122449 \\cos{\\left(7 x \\right)}}{\\pi^{2}} - \\frac{0.0987654320987654 \\cos{\\left(9 x \\right)}}{\\pi^{2}} + 1.0$"
      ],
      "text/plain": [
       "-8.0*cos(x)/pi**2 - 0.888888888888889*cos(3*x)/pi**2 - 0.32*cos(5*x)/pi**2 - 0.163265306122449*cos(7*x)/pi**2 - 0.0987654320987654*cos(9*x)/pi**2 + 1.0"
      ]
     },
     "execution_count": 7,
     "metadata": {},
     "output_type": "execute_result"
    }
   ],
   "source": [
    "ser"
   ]
  }
 ],
 "metadata": {
  "kernelspec": {
   "display_name": "Python 3 (ipykernel)",
   "language": "python",
   "name": "python3"
  },
  "language_info": {
   "codemirror_mode": {
    "name": "ipython",
    "version": 3
   },
   "file_extension": ".py",
   "mimetype": "text/x-python",
   "name": "python",
   "nbconvert_exporter": "python",
   "pygments_lexer": "ipython3",
   "version": "3.9.7"
  }
 },
 "nbformat": 4,
 "nbformat_minor": 5
}
